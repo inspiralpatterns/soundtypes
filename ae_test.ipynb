{
 "cells": [
  {
   "cell_type": "code",
   "execution_count": null,
   "metadata": {
    "collapsed": false,
    "deletable": true,
    "editable": true
   },
   "outputs": [],
   "source": [
    "# RECONSTRUCTION TEST \n",
    "\n",
    "import numpy as np\n",
    "import matplotlib\n",
    "%matplotlib inline\n",
    "\n",
    "import matplotlib.pyplot as plt\n",
    "\n",
    "from keras.models import load_model\n",
    "from keras import losses\n",
    "import keras.backend as K\n",
    "\n",
    "import librosa\n",
    "import librosa.display\n",
    "\n",
    "# iPython specific stuff\n",
    "import IPython.display\n",
    "from ipywidgets import interact, interactive, fixed"
   ]
  },
  {
   "cell_type": "markdown",
   "metadata": {
    "deletable": true,
    "editable": true
   },
   "source": [
    "### *If testing with sinusoids*"
   ]
  },
  {
   "cell_type": "code",
   "execution_count": null,
   "metadata": {
    "collapsed": true,
    "deletable": true,
    "editable": true
   },
   "outputs": [],
   "source": [
    "# define function to compute a spectrogram from an audio file\n",
    "def compute_specs(x, no_mels, fft_size, hop_size):\n",
    "    \n",
    "    # get options for computing spectrogram\n",
    "    mels = no_mels                      # frequency resolution\n",
    "    fft = fft_size                      # fft length\n",
    "    hop = hop_size                      # hop size\n",
    "    sr = 44100                          # frequency sampling\n",
    "    \n",
    "    # zero-pad for the right duration\n",
    "    x = np.hstack(tup=(x,np.zeros(500,)))\n",
    "\n",
    "    # Mel spectrogram for the file, overlap=50%\n",
    "    S = librosa.feature.melspectrogram(x, sr, n_fft=fft, n_mels=mels, hop_length=hop)\n",
    "    # log-compressed version\n",
    "    S = librosa.power_to_db(S, ref=np.max)\n",
    "    \n",
    "    # normalisation\n",
    "    norm = np.max(np.abs(S))\n",
    "    S /= norm\n",
    "    \n",
    "    # plot the spectrogram\n",
    "    fig = plt.figure(figsize=[12, 4])\n",
    "    librosa.display.specshow(S*norm, sr=sr, y_axis='mel', x_axis='time')\n",
    "    plt.colorbar(format='%+2.0f dB')\n",
    "    plt.title('Mel spectrogram')\n",
    "    plt.tight_layout()\n",
    "    plt.show()\n",
    "    fig.savefig('Original Mel spectrogram')\n",
    "\n",
    "    return S, norm"
   ]
  },
  {
   "cell_type": "code",
   "execution_count": null,
   "metadata": {
    "collapsed": false,
    "deletable": true,
    "editable": true
   },
   "outputs": [],
   "source": [
    "# get the reconstruction from a test sinusoid\n",
    "import matplotlib.pyplot as plt\n",
    "import librosa\n",
    "import librosa.display \n",
    "\n",
    "# get a sinusoid from the sine_dataset\n",
    "dataset = np.load('dataset_test.npz','r')\n",
    "data = dataset['spectrograms']\n",
    "norms = dataset['norms']\n",
    "x_test = data[1500]\n",
    "norm = norms[1500]\n",
    "\n",
    "print('Test spectogram shape:', S.shape)\n",
    "print('Normalisation factor:', norm)\n",
    "# create a test spectrogram\n",
    "x_test = np.reshape(S,newshape=(1, 128, 776, 1))\n",
    "print('Test spectogram of shape', x_test.shape)\n",
    "\n",
    "# spectrogram prediction\n",
    "y_test = model.predict(x_test)\n",
    "print('Decoded image dimensions:', y_test.shape)\n",
    "\n",
    "# reshape decoded_img in a 2D spectrogram\n",
    "y_test = np.reshape(y_test,newshape=(128,776))\n",
    "print('Decoded image after reshaping:',y_test.shape)\n",
    "\n",
    "# display original\n",
    "fig = plt.figure(figsize=[12, 4])\n",
    "librosa.display.specshow(x_test*norm, sr=44100, y_axis='mel', x_axis='time')\n",
    "plt.colorbar(format='%+2.0f dB')\n",
    "plt.title('Reconstructed Mel spectrogram')\n",
    "plt.tight_layout()\n",
    "plt.show()\n",
    "\n",
    "# display reconstruction\n",
    "fig = plt.figure(figsize=[12, 4])\n",
    "librosa.display.specshow(y_test*norm, sr=44100, y_axis='mel', x_axis='time')\n",
    "plt.colorbar(format='%+2.0f dB')\n",
    "plt.title('Reconstructed Mel spectrogram')\n",
    "plt.tight_layout()\n",
    "plt.show()"
   ]
  },
  {
   "cell_type": "markdown",
   "metadata": {
    "deletable": true,
    "editable": true
   },
   "source": [
    "### *If testing with MNIST*"
   ]
  },
  {
   "cell_type": "markdown",
   "metadata": {
    "deletable": true,
    "editable": true
   },
   "source": [
    "#### Model with sparsity as regularisation for each layer\n",
    "(*load this when sparsity is applied to the loss function*)"
   ]
  },
  {
   "cell_type": "code",
   "execution_count": null,
   "metadata": {
    "collapsed": false,
    "deletable": true,
    "editable": true
   },
   "outputs": [],
   "source": [
    "from keras import regularizers\n",
    "\n",
    "# the KL divergence describe the penalty term to be applied to the loss function\n",
    "def KL(p, p_hat):\n",
    "    return (p * K.log(p / p_hat)) + ((1-p) * K.log((1-p) / (1-p_hat)))\n",
    "\n",
    "class SparseReg(regularizers.Regularizer):\n",
    "\n",
    "    def __init__(self, p=0.05, beta=0.1,p_hat=0.0):\n",
    "        self.p = K.cast_to_floatx(p)\n",
    "        self.beta = K.cast_to_floatx(beta)\n",
    "        self.p_hat = K.cast_to_floatx(p_hat)\n",
    "\n",
    "    def __call__(self, x):\n",
    "        regularization = 0.\n",
    "        # p_hat needs to be the average activation of the units in the hidden layer.      \n",
    "        self.p_hat = K.sum(K.mean(x))\n",
    "\n",
    "        regularization += self.beta * KL(self.p,self.p_hat)\n",
    "        return regularization\n",
    "\n",
    "    def get_config(self):\n",
    "        return {'p': float(self.p),\n",
    "                'beta': float(self.beta)\n",
    "               }\n",
    "    \n",
    "    \n",
    "# define the custom sparsity penalty and load the model\n",
    "from keras.utils.generic_utils import get_custom_objects\n",
    "get_custom_objects().update({\"SparseReg\": SparseReg})\n",
    "# load the selected model\n",
    "model = load_model('specs_one_cae.h5')"
   ]
  },
  {
   "cell_type": "markdown",
   "metadata": {
    "deletable": true,
    "editable": true
   },
   "source": [
    "#### Model with sparsity penalty included in the loss function"
   ]
  },
  {
   "cell_type": "code",
   "execution_count": null,
   "metadata": {
    "collapsed": false,
    "deletable": true,
    "editable": true
   },
   "outputs": [],
   "source": [
    "def penaltyTerm(yTrue,yPred):\n",
    "    return beta*(losses.kullback_leibler_divergence(p, yPred)/100)\n",
    "\n",
    "def customLoss(yTrue,yPred):\n",
    "    return losses.mean_squared_error(yTrue,yPred) + penaltyTerm(yTrue,yPred)\n",
    "\n",
    "from keras.utils.generic_utils import get_custom_objects\n",
    "get_custom_objects().update({\"customLoss\": customLoss})\n",
    "get_custom_objects().update({\"penaltyTerm\": penaltyTerm})\n",
    "\n",
    "beta = K.constant(value=5e-1,shape=(1,1))\n",
    "p = K.constant(value=5e-2,shape=(1,1)) #kullback is expecting two tensors of the same shape\n"
   ]
  },
  {
   "cell_type": "code",
   "execution_count": null,
   "metadata": {
    "collapsed": false,
    "deletable": true,
    "editable": true
   },
   "outputs": [],
   "source": [
    "# using mnist dataset\n",
    "from keras.datasets import mnist\n",
    "import numpy as np\n",
    "(x_train, _),(x_test, _) = mnist.load_data()\n",
    "\n",
    "x_train = x_train.astype('float32') / 255.\n",
    "x_test = x_test.astype('float32') / 255.\n",
    "x_train = np.reshape(x_train, (len(x_train), 28, 28, 1))  # adapt this if using `channels_first` image data format\n",
    "x_test = np.reshape(x_test, (len(x_test), 28, 28, 1))  # adapt this if using `channels_first` image data format\n",
    "\n",
    "decoded_imgs = model.predict(x_test[:12])"
   ]
  },
  {
   "cell_type": "markdown",
   "metadata": {
    "collapsed": true,
    "deletable": true,
    "editable": true
   },
   "source": [
    "#### If noise is added as contraint"
   ]
  },
  {
   "cell_type": "code",
   "execution_count": null,
   "metadata": {
    "collapsed": true,
    "deletable": true,
    "editable": true
   },
   "outputs": [],
   "source": [
    "noise_factor = 0.3\n",
    "x_train_noisy = x_train + noise_factor * np.random.normal(loc=0.0, scale=1.0, size=x_train.shape) \n",
    "x_test_noisy = x_test + noise_factor * np.random.normal(loc=0.0, scale=1.0, size=x_test.shape) \n",
    "\n",
    "x_train_noisy = np.clip(x_train_noisy, 0., 1.)\n",
    "x_test_noisy = np.clip(x_test_noisy, 0., 1.)\n",
    "\n",
    "decoded_imgs = model.predict(x_test_noisy)"
   ]
  },
  {
   "cell_type": "code",
   "execution_count": null,
   "metadata": {
    "collapsed": false,
    "deletable": true,
    "editable": true
   },
   "outputs": [],
   "source": [
    "# for plotting some random digits and reconstructions using mnist\n",
    "n = 10\n",
    "plt.figure(figsize=(20, 4))\n",
    "for i in range(n):\n",
    "    # display original\n",
    "    ax = plt.subplot(2, n, i+1)\n",
    "    plt.imshow(x_test[i].reshape(28, 28))\n",
    "    plt.gray()\n",
    "    ax.get_xaxis().set_visible(False)\n",
    "    ax.get_yaxis().set_visible(False)\n",
    "\n",
    "    # display reconstruction\n",
    "    ax = plt.subplot(2, n, i + n+1)\n",
    "    plt.imshow(decoded_imgs[i].reshape(28, 28))\n",
    "    plt.gray()\n",
    "    ax.get_xaxis().set_visible(False)\n",
    "    ax.get_yaxis().set_visible(False)\n",
    "plt.show()"
   ]
  },
  {
   "cell_type": "markdown",
   "metadata": {
    "deletable": true,
    "editable": true
   },
   "source": [
    "### *If testing with spectrograms*"
   ]
  },
  {
   "cell_type": "code",
   "execution_count": null,
   "metadata": {
    "collapsed": false,
    "deletable": true,
    "editable": true
   },
   "outputs": [],
   "source": [
    "# get a sinusoid from the sine_dataset\n",
    "dataset = np.load('piano_dataset.npz','r')\n",
    "data = dataset['spectra']\n",
    "norms = dataset['norms']\n",
    "means = dataset['means']\n",
    "x_test = data[150:180,:512]\n",
    "norm = norms[150:180]\n",
    "mean = means[150:180]\n",
    "\n",
    "#print('Test spectogram shape:', x_test.shape)\n",
    "#print('Normalisation factor:', norm)\n",
    "#print('Mean factor:', mean)\n",
    "# create a test spectrogram\n",
    "x_test = np.reshape(x_test,newshape=(30, 512, 88, 1))\n",
    "print('Test spectogram of shape', x_test.shape)"
   ]
  },
  {
   "cell_type": "code",
   "execution_count": null,
   "metadata": {
    "collapsed": false,
    "deletable": true,
    "editable": true
   },
   "outputs": [],
   "source": [
    "# spectrogram prediction\n",
    "y_test = model.predict(x_test)\n",
    "print('Decoded image dimensions:', y_test.shape)\n",
    "\n",
    "# reshape decoded_img in a 2D spectrogram\n",
    "y_test = np.reshape(y_test,newshape=(30,512,88))\n",
    "print('Decoded image after reshaping:',y_test.shape)"
   ]
  },
  {
   "cell_type": "markdown",
   "metadata": {
    "deletable": true,
    "editable": true
   },
   "source": [
    "#### Reconstruction using log-magnitude spectra"
   ]
  },
  {
   "cell_type": "code",
   "execution_count": null,
   "metadata": {
    "collapsed": false,
    "deletable": true,
    "editable": true
   },
   "outputs": [],
   "source": [
    "# plot the original\n",
    "x_test = np.reshape(x_test,newshape=(30,512,88))\n",
    "orig = np.zeros((512,0))\n",
    "for n in range (len(x_test)):\n",
    "    orig = np.concatenate((orig,(x_test[n]*norm[n]+mean[n])),axis=1)\n",
    "    \n",
    "fig, ax = plt.subplots(nrows=1,ncols=1, figsize=(20,4))\n",
    "cax = ax.matshow(orig, interpolation='nearest', aspect='auto', cmap=plt.cm.afmhot, origin='lower')\n",
    "fig.colorbar(cax)"
   ]
  },
  {
   "cell_type": "code",
   "execution_count": null,
   "metadata": {
    "collapsed": false,
    "deletable": true,
    "editable": true
   },
   "outputs": [],
   "source": [
    "orig.shape"
   ]
  },
  {
   "cell_type": "code",
   "execution_count": null,
   "metadata": {
    "collapsed": false,
    "deletable": true,
    "editable": true,
    "scrolled": true
   },
   "outputs": [],
   "source": [
    "# plot the reconstruction\n",
    "reconstruction = np.zeros((512,0))\n",
    "for n in range (len(y_test)):\n",
    "    reconstruction = np.concatenate((reconstruction,(y_test[n]*norm[n]+mean[n])),axis=1)\n",
    "fig, ax = plt.subplots(nrows=1,ncols=1, figsize=(20,4))\n",
    "cax = ax.matshow(reconstruction, interpolation='nearest', aspect='auto', cmap=plt.cm.afmhot, origin='lower')\n",
    "fig.colorbar(cax)"
   ]
  },
  {
   "cell_type": "markdown",
   "metadata": {
    "deletable": true,
    "editable": true
   },
   "source": [
    "#### Reconstruction using sinusoids"
   ]
  },
  {
   "cell_type": "code",
   "execution_count": null,
   "metadata": {
    "collapsed": true,
    "deletable": true,
    "editable": true
   },
   "outputs": [],
   "source": [
    "# get the reconstruction from a test sinusoid\n",
    "\n",
    "x_test = np.reshape(x_test,newshape=(128,776))\n",
    "print('Decoded image after reshaping:',x_test.shape)\n",
    "\n",
    "# display original\n",
    "fig = plt.figure(figsize=[12, 4])\n",
    "librosa.display.specshow(x_test*norm, sr=44100, y_axis='mel', x_axis='time')\n",
    "plt.colorbar(format='%+2.0f dB')\n",
    "plt.title('Original Mel spectrogram')\n",
    "plt.tight_layout()\n",
    "plt.show()"
   ]
  },
  {
   "cell_type": "code",
   "execution_count": null,
   "metadata": {
    "collapsed": false,
    "deletable": true,
    "editable": true
   },
   "outputs": [],
   "source": [
    "# display reconstruction\n",
    "fig = plt.figure(figsize=[12, 4])\n",
    "librosa.display.specshow(y_test*norm, sr=44100, y_axis='mel', x_axis='time')\n",
    "plt.colorbar(format='%+2.0f dB')\n",
    "plt.title('Reconstructed Mel spectrogram')\n",
    "plt.tight_layout()\n",
    "plt.show()"
   ]
  },
  {
   "cell_type": "markdown",
   "metadata": {
    "deletable": true,
    "editable": true
   },
   "source": [
    "### *If testing with audio files*"
   ]
  },
  {
   "cell_type": "code",
   "execution_count": null,
   "metadata": {
    "collapsed": false,
    "deletable": true,
    "editable": true
   },
   "outputs": [],
   "source": [
    "# general parameters\n",
    "from utils import compute_spectrogram\n",
    "INPUT_FILE = 'samples/Jarrett_Vienna_cut.wav'           # input file for feature evaluation\n",
    "NO_MELS = 128                                           # no. of mel bins\n",
    "FFT_SIZE = 1024                                         # size of FFT\n",
    "HOP_SIZE = 512                                          # hop size (overlap)\n",
    "DURATION = 9                                            # segment duration (sec)\n",
    "SR = 44100\n",
    "\n",
    "[S, dims] = compute_spectrogram(\n",
    "            audiofile=INPUT_FILE,\n",
    "            no_mels=NO_MELS,\n",
    "            fft_size=FFT_SIZE,\n",
    "            hop_size=HOP_SIZE,\n",
    "            duration=DURATION,\n",
    "        )\n",
    "\n",
    "#print('S dimensions:', S.shape)\n",
    "#print('S type:', S.dtype)\n",
    "\n",
    "# normalisation\n",
    "norm = np.max(np.abs(S.astype(np.float32))).astype(np.float32)\n",
    "S /= norm\n",
    "print('Normalisation factor:', norm)\n",
    "\n",
    "# down to float precision\n",
    "x_test = S.astype(np.float32)\n",
    "\n",
    "# reshaping\n",
    "x_test = np.reshape(S,newshape=(1, 128, 776, 1))\n",
    "print('Test spectogram of shape', x_test.shape)"
   ]
  },
  {
   "cell_type": "code",
   "execution_count": null,
   "metadata": {
    "collapsed": false,
    "deletable": true,
    "editable": true
   },
   "outputs": [],
   "source": [
    "# display reconstruction\n",
    "fig = plt.figure(figsize=[12, 4])\n",
    "librosa.display.specshow(x_test*norm, sr=44100, y_axis='mel', x_axis='time')\n",
    "plt.colorbar(format='%+2.0f dB')\n",
    "plt.title('Reconstructed Mel spectrogram')\n",
    "plt.tight_layout()\n",
    "plt.show()"
   ]
  },
  {
   "cell_type": "markdown",
   "metadata": {
    "deletable": true,
    "editable": true
   },
   "source": [
    "## FILTER VISUALISATION\n",
    "*(still work in progress)*"
   ]
  },
  {
   "cell_type": "code",
   "execution_count": null,
   "metadata": {
    "collapsed": false,
    "deletable": true,
    "editable": true
   },
   "outputs": [],
   "source": [
    "# get the symbolic outputs of each layer given its name\n",
    "layer_dict = dict([(layer.name, layer) for layer in model.layers])"
   ]
  },
  {
   "cell_type": "code",
   "execution_count": null,
   "metadata": {
    "collapsed": false,
    "deletable": true,
    "editable": true
   },
   "outputs": [],
   "source": [
    "# visualise the dictionary\n",
    "layer_dict"
   ]
  },
  {
   "cell_type": "code",
   "execution_count": null,
   "metadata": {
    "collapsed": false,
    "deletable": true,
    "editable": true
   },
   "outputs": [],
   "source": [
    "from keras import backend as K\n",
    "\n",
    "layer_name = 'leaky_re_lu_1'\n",
    "filter_index = 0  # there are 256 filters in the first activation layer\n",
    "\n",
    "# build a loss function that maximizes the activation\n",
    "# of the nth filter of the layer considered\n",
    "layer_output = layer_dict[layer_name].output\n",
    "loss = K.mean(layer_output[:, :, :, filter_index])"
   ]
  },
  {
   "cell_type": "code",
   "execution_count": null,
   "metadata": {
    "collapsed": true,
    "deletable": true,
    "editable": true
   },
   "outputs": [],
   "source": [
    "# compute the gradient of the test spectrogram wrt this loss\n",
    "grads = K.gradients(loss, x_test)"
   ]
  },
  {
   "cell_type": "markdown",
   "metadata": {
    "collapsed": true,
    "deletable": true,
    "editable": true
   },
   "source": [
    "## RECONSTRUCTION\n",
    "*from a spectrogram using Griffin-Lim algorithm for phase reconstruction*"
   ]
  },
  {
   "cell_type": "code",
   "execution_count": null,
   "metadata": {
    "collapsed": false,
    "deletable": true,
    "editable": true
   },
   "outputs": [],
   "source": [
    "# compute the log magnitude of the power spectra via STFT\n",
    "x, sr = librosa.load(INPUT_FILE, duration=DURATION, sr=SR)\n",
    "D = librosa.stft(x,n_fft=FFT_SIZE) # D is a complex matrix with the magnitude and phase of the fourier transform\n",
    "S = np.log1p(np.abs(D)) # Take the magnitude with abs (call it Z) and return log(1 + Z) as the spectrogram"
   ]
  },
  {
   "cell_type": "code",
   "execution_count": null,
   "metadata": {
    "collapsed": true,
    "deletable": true,
    "editable": true
   },
   "outputs": [],
   "source": [
    "# plot the log spectrogram\n",
    "fig, ax = plt.subplots(nrows=1,ncols=1, figsize=(20,4))\n",
    "cax = ax.matshow(S, interpolation='nearest', aspect='auto', cmap=plt.cm.afmhot, origin='lower')\n",
    "fig.colorbar(cax)"
   ]
  },
  {
   "cell_type": "markdown",
   "metadata": {
    "deletable": true,
    "editable": true
   },
   "source": [
    "### Phase estimation with autoencoder result"
   ]
  },
  {
   "cell_type": "code",
   "execution_count": null,
   "metadata": {
    "collapsed": false,
    "deletable": true,
    "editable": true
   },
   "outputs": [],
   "source": [
    "# estimate the phase information using the Griffin-Lim algorithm\n",
    "# original spectra\n",
    "orig = orig[:512,:orig.shape[1]]\n",
    "orig = np.concatenate((orig,np.zeros((1,orig.shape[1]))))\n",
    "\n",
    "# Algorithm\n",
    "D = np.exp(orig) - 1 # go back to linear magnitude\n",
    "p = (2*np.pi) * np.random.random_sample(D.shape) # start with a random estimate\n",
    "p -= np.pi\n",
    "for i in range(200): # Do 200 iterations\n",
    "    Q = D * np.exp(1j*p) # Estimate the full STFT using the magnitude and the phase estimate\n",
    "    y = librosa.istft(Q) + 1e-6 # invert the STFT\n",
    "    p = np.angle(librosa.stft(y,n_fft=1024)) # Improve the phase estimate using the new signal"
   ]
  },
  {
   "cell_type": "code",
   "execution_count": null,
   "metadata": {
    "collapsed": false,
    "deletable": true,
    "editable": true
   },
   "outputs": [],
   "source": [
    "IPython.display.Audio(data=y,rate=44100)"
   ]
  },
  {
   "cell_type": "code",
   "execution_count": null,
   "metadata": {
    "collapsed": false,
    "deletable": true,
    "editable": true
   },
   "outputs": [],
   "source": [
    "# estimate the phase information using the Griffin-Lim algorithm\n",
    "# reconstructed spectra\n",
    "\n",
    "# match STFT size\n",
    "reconstruction = reconstruction[:512,:reconstruction.shape[1]]\n",
    "reconstruction = np.concatenate((reconstruction,np.zeros((1,reconstruction.shape[1]))))\n",
    "\n",
    "# Algorithm\n",
    "D = np.exp(reconstruction) - 1\n",
    "p = (2*np.pi) * np.random.random_sample(D.shape) # Start with a random estimate\n",
    "p -= np.pi\n",
    "for i in range(200): # Do 10 iterations\n",
    "    Q = D * np.exp(1j*p) # Estimate the full STFT using the magnitude and the phase estimate\n",
    "    y = librosa.istft(Q) + 1e-6 # invert the STFT\n",
    "    p = np.angle(librosa.stft(y,n_fft=1024)) # Improve the phase estimate using the new signal"
   ]
  },
  {
   "cell_type": "code",
   "execution_count": null,
   "metadata": {
    "collapsed": false,
    "deletable": true,
    "editable": true
   },
   "outputs": [],
   "source": [
    "IPython.display.Audio(data=y,rate=44100)"
   ]
  },
  {
   "cell_type": "code",
   "execution_count": null,
   "metadata": {
    "collapsed": true,
    "deletable": true,
    "editable": true
   },
   "outputs": [],
   "source": []
  }
 ],
 "metadata": {
  "kernelspec": {
   "display_name": "Python 3",
   "language": "python",
   "name": "python3"
  },
  "language_info": {
   "codemirror_mode": {
    "name": "ipython",
    "version": 3
   },
   "file_extension": ".py",
   "mimetype": "text/x-python",
   "name": "python",
   "nbconvert_exporter": "python",
   "pygments_lexer": "ipython3",
   "version": "3.5.0"
  }
 },
 "nbformat": 4,
 "nbformat_minor": 2
}
